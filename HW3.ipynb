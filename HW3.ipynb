{
 "cells": [
  {
   "cell_type": "markdown",
   "metadata": {},
   "source": [
    "# HW3"
   ]
  },
  {
   "cell_type": "code",
   "execution_count": 1,
   "metadata": {},
   "outputs": [],
   "source": [
    "import sympy as sp\n",
    "import numpy as np\n",
    "import random as ran"
   ]
  },
  {
   "cell_type": "markdown",
   "metadata": {},
   "source": [
    "# 生成一個n*n P型elementary matrix"
   ]
  },
  {
   "cell_type": "code",
   "execution_count": 2,
   "metadata": {},
   "outputs": [
    {
     "name": "stdout",
     "output_type": "stream",
     "text": [
      "input n = 2\n"
     ]
    },
    {
     "data": {
      "text/plain": [
       "Matrix([\n",
       "[1,  0],\n",
       "[0, 96]])"
      ]
     },
     "execution_count": 2,
     "metadata": {},
     "output_type": "execute_result"
    }
   ],
   "source": [
    "n = int(input(\"input n = \"))\n",
    "m = sp.eye(n,n)\n",
    "r = ran.randrange(0,3)# 0~2的整數\n",
    "if r == 0:#Row-switching transformations\n",
    "    ranRow1 = ran.randrange(0,n)\n",
    "    ranRow2 = ran.randrange(0,n)\n",
    "    while ranRow1 == ranRow2:\n",
    "        ranRow1 = ran.randrange(0,n)\n",
    "    m.row_swap(ranRow1,ranRow2)\n",
    "elif r == 1:#Row-multiplying transformations\n",
    "    ranRow = ran.randrange(0,n)\n",
    "    a = m.row(ranRow)*ran.randrange(1,100)\n",
    "    m.row_del(ranRow)\n",
    "    m = m.row_insert(ranRow,a)\n",
    "else:#Row-addition transformations\n",
    "    ranRow1 = ran.randrange(0,n)\n",
    "    ranRow2 = ran.randrange(0,n)\n",
    "    while ranRow1 == ranRow2:\n",
    "        ranRow1 = ran.randrange(0,n)\n",
    "    a = m.row(ranRow1)*ran.randrange(1,100)+m.row(ranRow2)\n",
    "    m.row_del(ranRow2)\n",
    "    m = m.row_insert(ranRow2,a)\n",
    "m"
   ]
  },
  {
   "cell_type": "markdown",
   "metadata": {},
   "source": [
    "# 生成可逆矩陣"
   ]
  },
  {
   "cell_type": "code",
   "execution_count": 3,
   "metadata": {},
   "outputs": [
    {
     "name": "stdout",
     "output_type": "stream",
     "text": [
      "input n = 2\n"
     ]
    },
    {
     "data": {
      "text/plain": [
       "Matrix([\n",
       "[   804247729824000,    129488279961600],\n",
       "[863240181541355520, 138986387014680576]])"
      ]
     },
     "execution_count": 3,
     "metadata": {},
     "output_type": "execute_result"
    }
   ],
   "source": [
    "n = int(input(\"input n = \"))\n",
    "m = sp.eye(n,n)\n",
    "count = 0\n",
    "loopTime = ran.randrange(1,100)#隨機1~99步生成矩陣\n",
    "record = []\n",
    "while count < loopTime:\n",
    "    r = ran.randrange(0,3)# 0~2的整數\n",
    "    #print(r)\n",
    "    if r == 0:#Row-switching transformations\n",
    "        ranRow1 = ran.randrange(0,n)\n",
    "        ranRow2 = ran.randrange(0,n)\n",
    "        while ranRow1 == ranRow2:\n",
    "            ranRow1 = ran.randrange(0,n)\n",
    "        m.row_swap(ranRow1,ranRow2)\n",
    "        \n",
    "        record.append((r,ranRow1,ranRow2))\n",
    "        \n",
    "    elif r == 1:#Row-multiplying transformations\n",
    "        ranRow = ran.randrange(0,n)\n",
    "        mul = ran.randrange(1,10)\n",
    "        a = m.row(ranRow)*mul\n",
    "        m.row_del(ranRow)\n",
    "        m = m.row_insert(ranRow,a)\n",
    "        \n",
    "        record.append((r,ranRow,mul))\n",
    "        \n",
    "    else:#Row-addition transformations\n",
    "        ranRow1 = ran.randrange(0,n)\n",
    "        ranRow2 = ran.randrange(0,n)\n",
    "        while ranRow1 == ranRow2:\n",
    "            ranRow1 = ran.randrange(0,n)\n",
    "        mul = ran.randrange(1,10)\n",
    "        a = m.row(ranRow1)*mul+m.row(ranRow2)\n",
    "        m.row_del(ranRow2)\n",
    "        m = m.row_insert(ranRow2,a)\n",
    "        \n",
    "        record.append((r,ranRow1,ranRow2,mul))\n",
    "        \n",
    "    count += 1\n",
    "m"
   ]
  },
  {
   "cell_type": "markdown",
   "metadata": {},
   "source": [
    "# 計算反矩陣"
   ]
  },
  {
   "cell_type": "code",
   "execution_count": 4,
   "metadata": {},
   "outputs": [
    {
     "data": {
      "text/plain": [
       "Matrix([\n",
       "[     -113591/56010528000,         4267/2258344488960],\n",
       "[162549553/12904825651200, -24424433/2081290281025536]])"
      ]
     },
     "execution_count": 4,
     "metadata": {},
     "output_type": "execute_result"
    }
   ],
   "source": [
    "count = len(record)-1\n",
    "inverseM = sp.eye(n,n)\n",
    "while count >= 0:\n",
    "    if record[count][0] == 0:\n",
    "        inverseM.row_swap(record[count][1],record[count][2])\n",
    "    elif record[count][0] == 1:\n",
    "        a = inverseM.row(record[count][1])/record[count][2]\n",
    "        inverseM.row_del(record[count][1])\n",
    "        inverseM = inverseM.row_insert(record[count][1],a)\n",
    "    else:\n",
    "        a = inverseM.row(record[count][2])-inverseM.row(record[count][1])*record[count][3]\n",
    "        inverseM.row_del(record[count][2])\n",
    "        inverseM = inverseM.row_insert(record[count][2],a)\n",
    "    count -= 1\n",
    "inverseM"
   ]
  },
  {
   "cell_type": "code",
   "execution_count": 5,
   "metadata": {},
   "outputs": [
    {
     "data": {
      "text/plain": [
       "Matrix([\n",
       "[     -113591/56010528000,         4267/2258344488960],\n",
       "[162549553/12904825651200, -24424433/2081290281025536]])"
      ]
     },
     "execution_count": 5,
     "metadata": {},
     "output_type": "execute_result"
    }
   ],
   "source": [
    "#檢驗是否正確\n",
    "m**-1"
   ]
  },
  {
   "cell_type": "code",
   "execution_count": null,
   "metadata": {},
   "outputs": [],
   "source": []
  }
 ],
 "metadata": {
  "kernelspec": {
   "display_name": "Python 3",
   "language": "python",
   "name": "python3"
  },
  "language_info": {
   "codemirror_mode": {
    "name": "ipython",
    "version": 3
   },
   "file_extension": ".py",
   "mimetype": "text/x-python",
   "name": "python",
   "nbconvert_exporter": "python",
   "pygments_lexer": "ipython3",
   "version": "3.6.5"
  }
 },
 "nbformat": 4,
 "nbformat_minor": 2
}
